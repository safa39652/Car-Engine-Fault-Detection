{
 "cells": [
  {
   "cell_type": "code",
   "execution_count": 1,
   "id": "983ddb8a-bbb1-4b60-aba0-2514991d5041",
   "metadata": {},
   "outputs": [],
   "source": [
    "import os\n",
    "import librosa\n",
    "import numpy as np\n",
    "import matplotlib.pyplot as plt\n",
    "import tensorflow as tf\n",
    "from sklearn.model_selection import train_test_split\n",
    "from tensorflow.keras.utils import to_categorical\n",
    "import soundfile as sf\n",
    "import random\n",
    "import pyrubberband as pyrb  # bibliothèque spéciale pour ça\n"
   ]
  },
  {
   "cell_type": "code",
   "execution_count": 3,
   "id": "27f97646-5612-4772-af3f-aee55a22fafb",
   "metadata": {},
   "outputs": [
    {
     "name": "stderr",
     "output_type": "stream",
     "text": [
      "c:\\Users\\ASUS\\anaconda3\\Lib\\site-packages\\paramiko\\pkey.py:82: CryptographyDeprecationWarning: TripleDES has been moved to cryptography.hazmat.decrepit.ciphers.algorithms.TripleDES and will be removed from this module in 48.0.0.\n",
      "  \"cipher\": algorithms.TripleDES,\n",
      "c:\\Users\\ASUS\\anaconda3\\Lib\\site-packages\\paramiko\\transport.py:219: CryptographyDeprecationWarning: Blowfish has been moved to cryptography.hazmat.decrepit.ciphers.algorithms.Blowfish and will be removed from this module in 45.0.0.\n",
      "  \"class\": algorithms.Blowfish,\n",
      "c:\\Users\\ASUS\\anaconda3\\Lib\\site-packages\\paramiko\\transport.py:243: CryptographyDeprecationWarning: TripleDES has been moved to cryptography.hazmat.decrepit.ciphers.algorithms.TripleDES and will be removed from this module in 48.0.0.\n",
      "  \"class\": algorithms.TripleDES,\n"
     ]
    },
    {
     "name": "stdout",
     "output_type": "stream",
     "text": [
      "✅ Augmentation terminée !\n"
     ]
    }
   ],
   "source": [
    "# appliquer data augmentation sur tout le data  \n",
    "def add_noise(data, noise_level=0.005):\n",
    "    noise = np.random.randn(len(data))\n",
    "    return data + noise_level * noise\n",
    "\n",
    "def change_pitch(data, sr, n_steps):\n",
    "    return librosa.effects.pitch_shift(y=data, sr=sr, n_steps=n_steps)\n",
    "\n",
    "\n",
    "def change_speed(data, sr, speed_factor):\n",
    "    new_sr = int(sr * speed_factor)\n",
    "    y_stretched = librosa.resample(y=data, orig_sr=sr, target_sr=new_sr)\n",
    "    return librosa.resample(y_stretched, orig_sr=new_sr, target_sr=sr)\n",
    "\n",
    "\n",
    "\n",
    "def change_volume(data, gain=1.2):\n",
    "    return data * gain\n",
    "\n",
    "def augment_file(file_path, output_folder, base_name):\n",
    "    y, sr = librosa.load(file_path, duration=5.0)\n",
    "\n",
    "    augmentations = {\n",
    "        \"noise\": add_noise(y),\n",
    "        \"pitch_up\": change_pitch(y, sr, 2),\n",
    "        \"pitch_down\": change_pitch(y, sr, -2),\n",
    "        \"speed_up\": change_speed(y, sr, 1.2),\n",
    "        \"speed_down\": change_speed(y, sr, 0.8),\n",
    "        \"volume_up\": change_volume(y, 1.5),\n",
    "        \"volume_down\": change_volume(y, 0.5)\n",
    "    }\n",
    "\n",
    "    for aug_type, y_aug in augmentations.items():\n",
    "        output_path = os.path.join(output_folder, f\"{base_name}_{aug_type}.wav\")\n",
    "        sf.write(output_path, y_aug, sr)\n",
    "\n",
    "def process_dataset(input_folder, output_folder):\n",
    "    for class_name in os.listdir(input_folder):\n",
    "        class_path = os.path.join(input_folder, class_name)\n",
    "        out_class_path = os.path.join(output_folder, class_name)\n",
    "        os.makedirs(out_class_path, exist_ok=True)\n",
    "\n",
    "        for i, file in enumerate(os.listdir(class_path)):\n",
    "            if file.endswith(\".wav\") or file.endswith(\".mp3\"):\n",
    "                input_file = os.path.join(class_path, file)\n",
    "                base_name = os.path.splitext(file)[0]\n",
    "                # Copie originale\n",
    "                sf.write(os.path.join(out_class_path, f\"{base_name}_original.wav\"), *librosa.load(input_file, duration=5.0))\n",
    "                # Augmentations\n",
    "                augment_file(input_file, out_class_path, base_name)\n",
    "\n",
    "if __name__ == \"__main__\":\n",
    "    input_path = \"audios\" # ton dossier original\n",
    "    output_path =  \"audios\"  # dossier de sortie\n",
    "    process_dataset(input_path, output_path)\n",
    "    print(\"✅ Augmentation terminée !\")\n"
   ]
  },
  {
   "cell_type": "code",
   "execution_count": 4,
   "id": "efdf6820-1a6f-4060-b818-086160638848",
   "metadata": {},
   "outputs": [],
   "source": [
    "# Classes de pannes\n",
    "classes = [ \"normale\" ,\"Fuel injector\",\"water_pump\",\n",
    "    \"knocking\",\n",
    "    \"exhaust_leak\",\n",
    "    \"belt_squeal\",\n",
    "    \"alternator_pulley\"]\n",
    "data = []  #contient le mfcc extraite \n",
    "labels = [] #contient le classe \n",
    "\n",
    "def extract_mfcc(file_path):\n",
    "    y, sr = librosa.load(file_path, duration=5)\n",
    "    mfcc = librosa.feature.mfcc(y=y, sr=sr, n_mfcc=40)\n",
    "    return mfcc"
   ]
  },
  {
   "cell_type": "code",
   "execution_count": 6,
   "id": "d7c5d3d0-0e8d-4f69-abea-8ee4ea4ec275",
   "metadata": {},
   "outputs": [],
   "source": [
    "# Charger les fichiers\n",
    "base_path = 'audios'\n",
    "for i, class_name in enumerate(classes):\n",
    "    class_path = os.path.join(base_path, class_name)\n",
    "    for file in os.listdir(class_path):\n",
    "        try:\n",
    "            #normalisation de la teille de mfcc \n",
    "            mfcc = extract_mfcc(os.path.join(class_path, file))\n",
    "            if mfcc.shape[1] < 216:  # Uniformiser la taille\n",
    "                mfcc = np.pad(mfcc, ((0, 0), (0, 216 - mfcc.shape[1])))\n",
    "            mfcc = mfcc[:, :216]\n",
    "            data.append(mfcc)\n",
    "            labels.append(i)\n",
    "        except:\n",
    "            continue\n"
   ]
  },
  {
   "cell_type": "code",
   "execution_count": 7,
   "id": "765560f6-e0a5-4146-a925-19ca9683827d",
   "metadata": {},
   "outputs": [],
   "source": [
    "\n",
    "# Conversion pour CNN\n",
    "# Convertit la liste Python data (qui contient les tableaux MFCC de chaque fichier audio) en un tableau NumPy multidimensionnel.\n",
    "X = np.array(data)\n",
    "X = X[..., np.newaxis]  # shape: (samples, 40, 216, 1)\n",
    "y = to_categorical(labels, num_classes=7)\n"
   ]
  },
  {
   "cell_type": "code",
   "execution_count": 8,
   "id": "8835a6fe-7546-47ba-b819-f5cf4c9c7703",
   "metadata": {},
   "outputs": [
    {
     "name": "stderr",
     "output_type": "stream",
     "text": [
      "c:\\Users\\ASUS\\anaconda3\\Lib\\site-packages\\keras\\src\\layers\\convolutional\\base_conv.py:107: UserWarning: Do not pass an `input_shape`/`input_dim` argument to a layer. When using Sequential models, prefer using an `Input(shape)` object as the first layer in the model instead.\n",
      "  super().__init__(activity_regularizer=activity_regularizer, **kwargs)\n"
     ]
    }
   ],
   "source": [
    "# --- Fixer les seeds ---\n",
    "random.seed(42)\n",
    "np.random.seed(42)\n",
    "tf.random.set_seed(42)\n",
    "os.environ[\"TF_DETERMINISTIC_OPS\"] = \"1\"\n",
    "#modéle CNN\n",
    "model = tf.keras.models.Sequential([\n",
    "    tf.keras.layers.Conv2D(32, (3,3), activation='relu', input_shape=(40, 216, 1)),\n",
    "    tf.keras.layers.MaxPooling2D((2,2)),\n",
    "    tf.keras.layers.Conv2D(64, (3,3), activation='relu'),\n",
    "    tf.keras.layers.MaxPooling2D((2,2)),\n",
    "    tf.keras.layers.Flatten(),\n",
    "    tf.keras.layers.Dense(64, activation='relu'),\n",
    "    tf.keras.layers.Dense(7, activation='softmax')  # 7 classes\n",
    "])\n",
    "\n",
    "model.compile(optimizer='adam', loss='categorical_crossentropy', metrics=['accuracy'])\n"
   ]
  },
  {
   "cell_type": "code",
   "execution_count": 9,
   "id": "105b8c5c-4e0a-42a6-ade2-f921b61cc27a",
   "metadata": {},
   "outputs": [
    {
     "name": "stdout",
     "output_type": "stream",
     "text": [
      "Epoch 1/20\n",
      "\u001b[1m64/64\u001b[0m \u001b[32m━━━━━━━━━━━━━━━━━━━━\u001b[0m\u001b[37m\u001b[0m \u001b[1m7s\u001b[0m 69ms/step - accuracy: 0.6185 - loss: 8.4909 - val_accuracy: 0.9724 - val_loss: 0.0869\n",
      "Epoch 2/20\n",
      "\u001b[1m64/64\u001b[0m \u001b[32m━━━━━━━━━━━━━━━━━━━━\u001b[0m\u001b[37m\u001b[0m \u001b[1m4s\u001b[0m 63ms/step - accuracy: 0.9899 - loss: 0.0481 - val_accuracy: 1.0000 - val_loss: 0.0099\n",
      "Epoch 3/20\n",
      "\u001b[1m64/64\u001b[0m \u001b[32m━━━━━━━━━━━━━━━━━━━━\u001b[0m\u001b[37m\u001b[0m \u001b[1m4s\u001b[0m 64ms/step - accuracy: 1.0000 - loss: 0.0055 - val_accuracy: 1.0000 - val_loss: 0.0016\n",
      "Epoch 4/20\n",
      "\u001b[1m64/64\u001b[0m \u001b[32m━━━━━━━━━━━━━━━━━━━━\u001b[0m\u001b[37m\u001b[0m \u001b[1m4s\u001b[0m 65ms/step - accuracy: 1.0000 - loss: 0.0014 - val_accuracy: 1.0000 - val_loss: 0.0014\n",
      "Epoch 5/20\n",
      "\u001b[1m64/64\u001b[0m \u001b[32m━━━━━━━━━━━━━━━━━━━━\u001b[0m\u001b[37m\u001b[0m \u001b[1m4s\u001b[0m 65ms/step - accuracy: 1.0000 - loss: 6.5287e-04 - val_accuracy: 1.0000 - val_loss: 6.5897e-04\n",
      "Epoch 6/20\n",
      "\u001b[1m64/64\u001b[0m \u001b[32m━━━━━━━━━━━━━━━━━━━━\u001b[0m\u001b[37m\u001b[0m \u001b[1m4s\u001b[0m 65ms/step - accuracy: 1.0000 - loss: 3.4050e-04 - val_accuracy: 1.0000 - val_loss: 4.9434e-04\n",
      "Epoch 7/20\n",
      "\u001b[1m64/64\u001b[0m \u001b[32m━━━━━━━━━━━━━━━━━━━━\u001b[0m\u001b[37m\u001b[0m \u001b[1m4s\u001b[0m 64ms/step - accuracy: 1.0000 - loss: 2.3648e-04 - val_accuracy: 1.0000 - val_loss: 3.8897e-04\n",
      "Epoch 8/20\n",
      "\u001b[1m64/64\u001b[0m \u001b[32m━━━━━━━━━━━━━━━━━━━━\u001b[0m\u001b[37m\u001b[0m \u001b[1m4s\u001b[0m 66ms/step - accuracy: 1.0000 - loss: 1.7915e-04 - val_accuracy: 1.0000 - val_loss: 3.1948e-04\n",
      "Epoch 9/20\n",
      "\u001b[1m64/64\u001b[0m \u001b[32m━━━━━━━━━━━━━━━━━━━━\u001b[0m\u001b[37m\u001b[0m \u001b[1m4s\u001b[0m 64ms/step - accuracy: 1.0000 - loss: 1.4208e-04 - val_accuracy: 1.0000 - val_loss: 2.6950e-04\n",
      "Epoch 10/20\n",
      "\u001b[1m64/64\u001b[0m \u001b[32m━━━━━━━━━━━━━━━━━━━━\u001b[0m\u001b[37m\u001b[0m \u001b[1m4s\u001b[0m 67ms/step - accuracy: 1.0000 - loss: 1.1554e-04 - val_accuracy: 1.0000 - val_loss: 2.3255e-04\n",
      "Epoch 11/20\n",
      "\u001b[1m64/64\u001b[0m \u001b[32m━━━━━━━━━━━━━━━━━━━━\u001b[0m\u001b[37m\u001b[0m \u001b[1m5s\u001b[0m 71ms/step - accuracy: 1.0000 - loss: 9.6377e-05 - val_accuracy: 1.0000 - val_loss: 2.0419e-04\n",
      "Epoch 12/20\n",
      "\u001b[1m64/64\u001b[0m \u001b[32m━━━━━━━━━━━━━━━━━━━━\u001b[0m\u001b[37m\u001b[0m \u001b[1m4s\u001b[0m 64ms/step - accuracy: 1.0000 - loss: 8.2024e-05 - val_accuracy: 1.0000 - val_loss: 1.8158e-04\n",
      "Epoch 13/20\n",
      "\u001b[1m64/64\u001b[0m \u001b[32m━━━━━━━━━━━━━━━━━━━━\u001b[0m\u001b[37m\u001b[0m \u001b[1m4s\u001b[0m 57ms/step - accuracy: 1.0000 - loss: 7.0643e-05 - val_accuracy: 1.0000 - val_loss: 1.6234e-04\n",
      "Epoch 14/20\n",
      "\u001b[1m64/64\u001b[0m \u001b[32m━━━━━━━━━━━━━━━━━━━━\u001b[0m\u001b[37m\u001b[0m \u001b[1m4s\u001b[0m 57ms/step - accuracy: 1.0000 - loss: 6.1227e-05 - val_accuracy: 1.0000 - val_loss: 1.4722e-04\n",
      "Epoch 15/20\n",
      "\u001b[1m64/64\u001b[0m \u001b[32m━━━━━━━━━━━━━━━━━━━━\u001b[0m\u001b[37m\u001b[0m \u001b[1m4s\u001b[0m 58ms/step - accuracy: 1.0000 - loss: 5.3745e-05 - val_accuracy: 1.0000 - val_loss: 1.3405e-04\n",
      "Epoch 16/20\n",
      "\u001b[1m64/64\u001b[0m \u001b[32m━━━━━━━━━━━━━━━━━━━━\u001b[0m\u001b[37m\u001b[0m \u001b[1m4s\u001b[0m 57ms/step - accuracy: 1.0000 - loss: 4.7619e-05 - val_accuracy: 1.0000 - val_loss: 1.2237e-04\n",
      "Epoch 17/20\n",
      "\u001b[1m64/64\u001b[0m \u001b[32m━━━━━━━━━━━━━━━━━━━━\u001b[0m\u001b[37m\u001b[0m \u001b[1m4s\u001b[0m 58ms/step - accuracy: 1.0000 - loss: 4.2636e-05 - val_accuracy: 1.0000 - val_loss: 1.1212e-04\n",
      "Epoch 18/20\n",
      "\u001b[1m64/64\u001b[0m \u001b[32m━━━━━━━━━━━━━━━━━━━━\u001b[0m\u001b[37m\u001b[0m \u001b[1m4s\u001b[0m 58ms/step - accuracy: 1.0000 - loss: 3.8341e-05 - val_accuracy: 1.0000 - val_loss: 1.0331e-04\n",
      "Epoch 19/20\n",
      "\u001b[1m64/64\u001b[0m \u001b[32m━━━━━━━━━━━━━━━━━━━━\u001b[0m\u001b[37m\u001b[0m \u001b[1m4s\u001b[0m 57ms/step - accuracy: 1.0000 - loss: 3.4679e-05 - val_accuracy: 1.0000 - val_loss: 9.5962e-05\n",
      "Epoch 20/20\n",
      "\u001b[1m64/64\u001b[0m \u001b[32m━━━━━━━━━━━━━━━━━━━━\u001b[0m\u001b[37m\u001b[0m \u001b[1m4s\u001b[0m 60ms/step - accuracy: 1.0000 - loss: 3.1490e-05 - val_accuracy: 1.0000 - val_loss: 8.8822e-05\n"
     ]
    },
    {
     "data": {
      "text/plain": [
       "<keras.src.callbacks.history.History at 0x133ac167740>"
      ]
     },
     "execution_count": 9,
     "metadata": {},
     "output_type": "execute_result"
    }
   ],
   "source": [
    "# entrainement de modéle \n",
    "X_train, X_test, y_train, y_test = train_test_split(X, y, test_size=0.2, random_state=42)\n",
    "model.fit(X_train, y_train, epochs=20, batch_size=16, validation_data=(X_test, y_test))\n"
   ]
  },
  {
   "cell_type": "code",
   "execution_count": 10,
   "id": "0c8fdac3-8920-48fb-9e63-cf59440c92ae",
   "metadata": {},
   "outputs": [
    {
     "name": "stdout",
     "output_type": "stream",
     "text": [
      "\u001b[1m8/8\u001b[0m \u001b[32m━━━━━━━━━━━━━━━━━━━━\u001b[0m\u001b[37m\u001b[0m \u001b[1m0s\u001b[0m 37ms/step\n",
      "=== Rapport de classification ===\n",
      "                   precision    recall  f1-score   support\n",
      "\n",
      "          normale       1.00      1.00      1.00        18\n",
      "    Fuel injector       1.00      1.00      1.00        16\n",
      "       water_pump       1.00      1.00      1.00       146\n",
      "         knocking       1.00      1.00      1.00        19\n",
      "     exhaust_leak       1.00      1.00      1.00        15\n",
      "      belt_squeal       1.00      1.00      1.00        19\n",
      "alternator_pulley       1.00      1.00      1.00        21\n",
      "\n",
      "         accuracy                           1.00       254\n",
      "        macro avg       1.00      1.00      1.00       254\n",
      "     weighted avg       1.00      1.00      1.00       254\n",
      "\n"
     ]
    },
    {
     "data": {
      "image/png": "[encoded data removed]",
      "text/plain": [
       "<Figure size 600x500 with 2 Axes>"
      ]
     },
     "metadata": {},
     "output_type": "display_data"
    }
   ],
   "source": [
    "from sklearn.metrics import classification_report, confusion_matrix\n",
    "import seaborn as sns\n",
    "\n",
    "# 🔄 Prédictions\n",
    "y_pred_proba = model.predict(X_test)\n",
    "y_pred = np.argmax(y_pred_proba, axis=1)\n",
    "y_true = np.argmax(y_test, axis=1)\n",
    "\n",
    "# 📊 Rapport de classification\n",
    "print(\"=== Rapport de classification ===\")\n",
    "print(classification_report(y_true, y_pred, target_names=classes))\n",
    "\n",
    "# 📉 Matrice de confusion\n",
    "cm = confusion_matrix(y_true, y_pred)\n",
    "plt.figure(figsize=(6, 5))\n",
    "sns.heatmap(cm, annot=True, fmt=\"d\", cmap=\"Blues\", xticklabels=classes, yticklabels=classes)\n",
    "plt.xlabel(\"Prédit\")\n",
    "plt.ylabel(\"Réel\")\n",
    "plt.title(\"Matrice de confusion\")\n",
    "plt.show()\n"
   ]
  },
  {
   "cell_type": "code",
   "execution_count": 11,
   "id": "6881fe4e-8338-42cc-b3e7-1f862d376492",
   "metadata": {},
   "outputs": [],
   "source": [
    "from tensorflow import keras\n",
    "model.save(\"mon_modele_CNN1.keras\")"
   ]
  },
  {
   "cell_type": "code",
   "execution_count": null,
   "id": "a398c6bd-6daa-4ff4-b48b-8a035638db7b",
   "metadata": {},
   "outputs": [],
   "source": []
  }
 ],
 "metadata": {
  "kernelspec": {
   "display_name": "base",
   "language": "python",
   "name": "python3"
  },
  "language_info": {
   "codemirror_mode": {
    "name": "ipython",
    "version": 3
   },
   "file_extension": ".py",
   "mimetype": "text/x-python",
   "name": "python",
   "nbconvert_exporter": "python",
   "pygments_lexer": "ipython3",
   "version": "3.12.3"
  }
 },
 "nbformat": 4,
 "nbformat_minor": 5
}
